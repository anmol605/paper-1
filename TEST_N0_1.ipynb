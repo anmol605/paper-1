{
  "nbformat": 4,
  "nbformat_minor": 0,
  "metadata": {
    "colab": {
      "provenance": []
    },
    "kernelspec": {
      "name": "python3",
      "display_name": "Python 3"
    },
    "language_info": {
      "name": "python"
    }
  },
  "cells": [
    {
      "cell_type": "code",
      "execution_count": null,
      "metadata": {
        "id": "ujPuMskNK-Qf"
      },
      "outputs": [],
      "source": []
    },
    {
      "cell_type": "markdown",
      "source": [
        "#Python Basics Questions"
      ],
      "metadata": {
        "id": "_GF8dFZ9LACp"
      }
    },
    {
      "cell_type": "markdown",
      "source": [
        "1) What is Python, and why is it popular ?\n",
        "   Python is a versatile, high-level, interpreted programming language known for its readability and ease of use. It's popular due to its simple syntax, extensive libraries, and adaptability to various fields like web development, data science, and machine learning.\n",
        "   It is popular for High-level, Interpreted,Versatile,\n",
        "   Open-source,Simple syntax.\n",
        "\n",
        "2) What is an interpreter in Python ?\n",
        "  In Python, an interpreter is a program that reads and executes Python code line by line, without requiring it to be compiled into machine code beforehand. It translates each high-level statement into lower-level instructions that the computer can understand and run.  \n",
        "\n",
        "3) What are pre-defined keywords in Python ?\n",
        "  Keywords in Python are reserved words that have predefined meanings and cannot be used as identifiers (variable names, function names, etc.). They are essential for the language's syntax and structure.  \n",
        "\n",
        "4) Can keywords be used as variable names ?\n",
        "  No, keywords cannot be used as variable names in programming languages like C, C++, Python, and Java. Keywords have specific, predefined meanings within the language and are used for syntax and structure. Using them as variable names would lead to ambiguity and errors because the compiler/interpreter would not know if you're referring to a variable or a keyword.\n",
        "\n",
        "5) What is mutability in Python ?\n",
        "  In Python, mutability refers to an object's ability to be modified after its creation. Mutable objects can be changed without creating a new object. This means that their state or content can be altered directly.\n",
        "\n",
        "6) Why are lists mutable, but tuples are immutable ?\n",
        " Lists are mutable, meaning that their contents can be changed after the list has been created. You can add, remove, or modify elements within a list.\n",
        " Tuples are immutable, meaning once a tuple is created, its contents cannot be changed. You cannot add, remove, or modify elements in a tuple.   \n",
        "\n",
        "7)  What is the difference between “==” and “is” operators in Python ?\n",
        " ### `==` Operator\n",
        "- **Purpose**: The `==` operator checks for **value equality**. It determines whether the values of two objects are the same, regardless of whether they are the same object in memory.\n",
        "- **Behavior**: When you use `==`, Python calls the `__eq__()` method of the objects being compared, which can be overridden to provide custom equality logic.\n",
        "### `is` Operator\n",
        "- **Purpose**: The `is` operator checks for **identity equality**. It determines whether two references point to the same object in memory.\n",
        "- **Behavior**: When you use `is`, Python checks if the two operands refer to the exact same object (i.e., they have the same memory address).\n",
        "\n",
        "8) What are logical operators in Python ?\n",
        "   In Python, logical operators are used to combine conditional statements and evaluate boolean expressions. There are three main logical operators in Python:\n",
        "\n",
        "### 1. `and`\n",
        "- **Description**: The `and` operator returns `True` if both operands (conditions) are `True`. If either operand is `False`, it returns `False.\n",
        "\n",
        "9) What is type casting in Python ?\n",
        "   ype casting in Python is the process of converting a variable from one data type to another. This is useful when you need to perform operations on data types that require specific types or when you want to ensure that different types can be compared or manipulated together.\n",
        "\n",
        "10) What is the difference between implicit and explicit type casting ?\n",
        "    \n",
        "    implicit Type Casting (Automatic Type Conversion)\n",
        "    1. **Definition**: Implicit type casting, also known as automatic type conversion, occurs when Python automatically converts one data type to another without any explicit instruction from the programmer.\n",
        "\n",
        "    2. **When It Happens**:\n",
        "   - This typically occurs during arithmetic operations or when combining different data types, where a more \"general\" type is needed to accommodate the operation.\n",
        "   - For example, when an integer and a float are used in an operation, the integer is automatically converted to a float to avoid data loss.\n",
        "   \n",
        "   Explicit Type Casting (Manual Type Conversion)\n",
        "\n",
        "    1. **Definition**: Explicit type casting, also known as manual type conversion, requires the programmer to specify the type conversion using built-in functions.\n",
        "\n",
        "    2. **When It Happens**:\n",
        "   - This is used when the programmer knows that a conversion is necessary for a specific operation or to ensure that the data is in the desired format.\n",
        "\n",
        "11) What is the purpose of conditional statements in\n",
        "    Python ?\n",
        "    Conditional statements in Python allow you to control the flow of your program based on whether certain conditions are true or false. They enable decision-making and branching logic, making programs more dynamic and responsive.\n",
        "\n",
        "12) How does the elif statement work ?\n",
        "    Elif' stands for 'else if' and is used in Python programming to test multiple conditions. It is written following an if statement in Python to check an alternative condition if the first condition is false. The code block under the elif statement will be executed only if its condition is true.       \n",
        "\n",
        "13) What is the difference between for and while loops ?\n",
        "    For' and 'while' loops are two of the most fundamental iterative operations in programming. Although they share similarities, they have distinct mechanics and applications. This article explores the core differences between these two types of loops and their ideal use cases. Whether you're a novice coder or an experienced developer, comprehending these differences is essential for making informed decisions about loop usage in various programming scenarios.\n",
        "14) Describe a scenario where a while loop is more suitable\n",
        "    than a for loop.    \n",
        "    In programming, for loops are best used when you know the number of iterations ahead of time, whereas a while loop is best used when you don't know the number of iterations in advance. Both methods can help you iterate through your code."
      ],
      "metadata": {
        "id": "dBcNCITLLGMa"
      }
    },
    {
      "cell_type": "markdown",
      "source": [
        "#Practical Questions"
      ],
      "metadata": {
        "id": "uKDs4KfTSZqD"
      }
    },
    {
      "cell_type": "code",
      "source": [
        "#1)Write a Python program to print \"Hello, World!y?\n",
        "  print(\"hello,world!\")"
      ],
      "metadata": {
        "colab": {
          "base_uri": "https://localhost:8080/"
        },
        "id": "8T_KsEOKSk2q",
        "outputId": "a3c69d14-b0f2-4ff1-d8ac-77a61f266f54"
      },
      "execution_count": 5,
      "outputs": [
        {
          "output_type": "stream",
          "name": "stdout",
          "text": [
            "hello,world!\n"
          ]
        }
      ]
    },
    {
      "cell_type": "code",
      "source": [
        "#2)Write a Python program that displays your name and age.\n",
        "name =\"Anmol\"\n",
        "age =24\n",
        "print(\"my name is Anmol\")\n",
        "print(\"I am 24 years old\")"
      ],
      "metadata": {
        "colab": {
          "base_uri": "https://localhost:8080/"
        },
        "id": "C_BSW44wVStr",
        "outputId": "67521aab-e599-41e5-df7e-27a7c639dd81"
      },
      "execution_count": 13,
      "outputs": [
        {
          "output_type": "stream",
          "name": "stdout",
          "text": [
            "my name is Anmol\n",
            "I am 24 years old\n"
          ]
        }
      ]
    },
    {
      "cell_type": "code",
      "source": [
        "#3)Write code to print all the pre-defined keywords in Python using the keyword library.\n",
        "   import keyword\n",
        "\n",
        "# Print all Python keywords\n",
        "print(\"Python Keywords:\")\n",
        "for kw in keyword.kwlist:\n",
        "    print(kw)\n",
        ""
      ],
      "metadata": {
        "colab": {
          "base_uri": "https://localhost:8080/"
        },
        "id": "ztodSuwPYY63",
        "outputId": "437ba203-8e2f-401a-e37e-1db369857c2a"
      },
      "execution_count": 30,
      "outputs": [
        {
          "output_type": "stream",
          "name": "stdout",
          "text": [
            "Python Keywords:\n",
            "False\n",
            "None\n",
            "True\n",
            "and\n",
            "as\n",
            "assert\n",
            "async\n",
            "await\n",
            "break\n",
            "class\n",
            "continue\n",
            "def\n",
            "del\n",
            "elif\n",
            "else\n",
            "except\n",
            "finally\n",
            "for\n",
            "from\n",
            "global\n",
            "if\n",
            "import\n",
            "in\n",
            "is\n",
            "lambda\n",
            "nonlocal\n",
            "not\n",
            "or\n",
            "pass\n",
            "raise\n",
            "return\n",
            "try\n",
            "while\n",
            "with\n",
            "yield\n"
          ]
        }
      ]
    },
    {
      "cell_type": "code",
      "source": [
        "#4)  Write a program that checks if a given word is a Python keyword.\n",
        "import keyword\n",
        "\n",
        "# Get input from the user\n",
        "word = input(\"Enter a word: \")\n",
        "\n",
        "# Check if it's a Python keyword\n",
        "if keyword.iskeyword(word):\n",
        "    print(f\"'{word}' is a Python keyword.\")\n",
        "else:\n",
        "    print(f\"'{word}' is NOT a Python keyword.\")"
      ],
      "metadata": {
        "colab": {
          "base_uri": "https://localhost:8080/"
        },
        "id": "lKLcwKAgqF0w",
        "outputId": "0cd30302-461e-41ef-95c1-df1c1163633a"
      },
      "execution_count": 31,
      "outputs": [
        {
          "output_type": "stream",
          "name": "stdout",
          "text": [
            "Enter a word: def\n",
            "'def' is a Python keyword.\n"
          ]
        }
      ]
    },
    {
      "cell_type": "code",
      "source": [
        "#5) Create a list and tuple in Python, and demonstrate how attempting to change an element works differently\n",
        "for each.\n",
        "\n",
        "# List (mutable)\n",
        "my_list = [10, 20, 30]\n",
        "\n",
        "# Tuple (immutable)\n",
        "my_tuple = (10, 20, 30)\n",
        "\n",
        "my_list[1] = 99\n",
        "print(\"modified list:\",my_list)"
      ],
      "metadata": {
        "colab": {
          "base_uri": "https://localhost:8080/"
        },
        "id": "DxXm4RqLqFfT",
        "outputId": "09e073c5-746d-427e-a938-38af246deef3"
      },
      "execution_count": 59,
      "outputs": [
        {
          "output_type": "stream",
          "name": "stdout",
          "text": [
            "modified list: [10, 99, 30]\n"
          ]
        }
      ]
    },
    {
      "cell_type": "code",
      "source": [
        "#6)Write a function to demonstrate the behavior of mutable and immutable arguments\n",
        "   def modify_values(a, b):\n",
        "    a += 10         # Try modifying the integer (immutable)\n",
        "    b.append(4)      # Try modifying the list (mutable)\n",
        "    print(\"Inside function - a:\", a)\n",
        "    print(\"Inside function - b:\", b)\n",
        "\n",
        "# Immutable argument (int)\n",
        "x = 5\n",
        "\n",
        "# Mutable argument (list)\n",
        "y = [1, 2, 3]\n",
        "\n",
        "modify_values(x, y)\n",
        "\n",
        "print(\"Outside function - x:\", x)\n",
        "print(\"Outside function - y:\", y)"
      ],
      "metadata": {
        "colab": {
          "base_uri": "https://localhost:8080/"
        },
        "id": "V-l4q5KIqFJh",
        "outputId": "3fe938ec-94d7-4216-cd33-2b2999ab3ea3"
      },
      "execution_count": 39,
      "outputs": [
        {
          "output_type": "stream",
          "name": "stdout",
          "text": [
            "Inside function - a: 15\n",
            "Inside function - b: [1, 2, 3, 4]\n",
            "Outside function - x: 5\n",
            "Outside function - y: [1, 2, 3, 4]\n"
          ]
        }
      ]
    },
    {
      "cell_type": "code",
      "source": [
        "#7)Write a program that performs basic arithmetic operations on two user-input numbers.\n",
        "   # Get input from the user\n",
        "num1 = float(input(\"Enter the first number: \"))\n",
        "num2 = float(input(\"Enter the second number: \"))\n",
        "\n",
        "# Perform arithmetic operations\n",
        "addition = num1 + num2\n",
        "subtraction = num1 - num2\n",
        "multiplication = num1 * num2\n",
        "\n",
        "# Handle division by zero\n",
        "if num2 != 0:\n",
        "    division = num1 / num2\n",
        "else:\n",
        "    division = \"Undefined (cannot divide by zero)\"\n",
        "\n",
        "# Display results\n",
        "print(\"\\nResults:\")\n",
        "print(\"Addition:\", addition)\n",
        "print(\"Subtraction:\", subtraction)\n",
        "print(\"Multiplication:\", multiplication)\n",
        "print(\"Division:\", division)"
      ],
      "metadata": {
        "colab": {
          "base_uri": "https://localhost:8080/"
        },
        "id": "7aiTnX65qE2P",
        "outputId": "bf448ce1-fe14-470f-bd64-d273c56826b0"
      },
      "execution_count": 40,
      "outputs": [
        {
          "output_type": "stream",
          "name": "stdout",
          "text": [
            "Enter the first number: 1\n",
            "Enter the second number: 5\n",
            "\n",
            "Results:\n",
            "Addition: 6.0\n",
            "Subtraction: -4.0\n",
            "Multiplication: 5.0\n",
            "Division: 0.2\n"
          ]
        }
      ]
    },
    {
      "cell_type": "code",
      "source": [
        "#8)Write a program to demonstrate the use of logical operators.\n",
        "   # Get input from the user\n",
        "age = int(input(\"Enter your age: \"))\n",
        "has_ticket = input(\"Do you have a ticket? (yes/no): \").lower()\n",
        "\n",
        "# Convert ticket answer to boolean\n",
        "has_ticket = has_ticket == \"yes\"\n",
        "\n",
        "# Using logical operators\n",
        "print(\"\\nChecking conditions using logical operators...\\n\")\n",
        "\n",
        "# AND operator\n",
        "if age >= 18 and has_ticket:\n",
        "    print(\"Access granted: You are 18+ and have a ticket.\")\n",
        "\n",
        "# OR operator\n",
        "elif age >= 18 or has_ticket:\n",
        "    print(\"Partial access: Either you're 18+ or have a ticket.\")\n",
        "\n",
        "# NOT operator\n",
        "elif not has_ticket:\n",
        "    print(\"Access denied: You do not have a ticket.\")\n",
        "\n",
        "else:\n",
        "    print(\"Access denied: Conditions not met.\")"
      ],
      "metadata": {
        "colab": {
          "base_uri": "https://localhost:8080/"
        },
        "id": "V399caAWqEid",
        "outputId": "ac36e4dc-806d-49cb-9123-a27790c0ccf2"
      },
      "execution_count": 41,
      "outputs": [
        {
          "output_type": "stream",
          "name": "stdout",
          "text": [
            "Enter your age: 5\n",
            "Do you have a ticket? (yes/no): yes\n",
            "\n",
            "Checking conditions using logical operators...\n",
            "\n",
            "Partial access: Either you're 18+ or have a ticket.\n"
          ]
        }
      ]
    },
    {
      "cell_type": "code",
      "source": [
        "#9) Write a Python program to convert user input from string to integer, float, and boolean types.\n",
        "    # Get user input as a string\n",
        "user_input = input(\"Enter a value: \")\n",
        "\n",
        "# Convert to integer\n",
        "try:\n",
        "    int_value = int(user_input)\n",
        "    print(\"Integer:\", int_value, \"| Type:\", type(int_value))\n",
        "except ValueError:\n",
        "    print(\"Cannot convert to Integer.\")\n",
        "\n",
        "# Convert to float\n",
        "try:\n",
        "    float_value = float(user_input)\n",
        "    print(\"Float:\", float_value, \"| Type:\", type(float_value))\n",
        "except ValueError:\n",
        "    print(\"Cannot convert to Float.\")\n",
        "\n",
        "# Convert to boolean\n",
        "# Any non-empty string is True, empty string is False\n",
        "bool_value = bool(user_input)\n",
        "print(\"Boolean:\", bool_value, \"| Type:\", type(bool_value))"
      ],
      "metadata": {
        "colab": {
          "base_uri": "https://localhost:8080/"
        },
        "id": "kX5IHtekqENH",
        "outputId": "28787164-e844-49ee-f922-1eeffe9deec2"
      },
      "execution_count": 42,
      "outputs": [
        {
          "output_type": "stream",
          "name": "stdout",
          "text": [
            "Enter a value: 1\n",
            "Integer: 1 | Type: <class 'int'>\n",
            "Float: 1.0 | Type: <class 'float'>\n",
            "Boolean: True | Type: <class 'bool'>\n"
          ]
        }
      ]
    },
    {
      "cell_type": "code",
      "source": [
        "#10)  Write code to demonstrate type casting with list elements.\n",
        "      # List with string representations of numbers\n",
        "str_list = [\"10\", \"20\", \"30\", \"40\"]\n",
        "\n",
        "print(\"Original list (strings):\", str_list)\n",
        "\n",
        "# Convert string elements to integers\n",
        "int_list = [int(item) for item in str_list]\n",
        "print(\"Converted to integers:\", int_list)\n",
        "\n",
        "# Convert to floats\n",
        "float_list = [float(item) for item in str_list]\n",
        "print(\"Converted to floats:\", float_list)\n",
        "\n",
        "# Convert to booleans\n",
        "bool_list = [bool(item) for item in str_list]\n",
        "print(\"Converted to booleans:\", bool_list)"
      ],
      "metadata": {
        "colab": {
          "base_uri": "https://localhost:8080/"
        },
        "id": "-C4JgKfaqD3X",
        "outputId": "9e13a070-d4ab-4cd6-ebf1-62c8dde9cd95"
      },
      "execution_count": 43,
      "outputs": [
        {
          "output_type": "stream",
          "name": "stdout",
          "text": [
            "Original list (strings): ['10', '20', '30', '40']\n",
            "Converted to integers: [10, 20, 30, 40]\n",
            "Converted to floats: [10.0, 20.0, 30.0, 40.0]\n",
            "Converted to booleans: [True, True, True, True]\n"
          ]
        }
      ]
    },
    {
      "cell_type": "code",
      "source": [
        "#11) Write a program that checks if a number is positive, negative, or zero.\n",
        "     # Get input from the user and convert to float\n",
        "num = float(input(\"Enter a number: \"))\n",
        "\n",
        "# Check conditions\n",
        "if num > 0:\n",
        "    print(\"The number is Positive.\")\n",
        "elif num < 0:\n",
        "    print(\"The number is Negative.\")\n",
        "else:\n",
        "    print(\"The number is Zero.\")"
      ],
      "metadata": {
        "colab": {
          "base_uri": "https://localhost:8080/"
        },
        "id": "iS55hu26qDiJ",
        "outputId": "283254f7-57d1-496f-8cf3-93457b411c69"
      },
      "execution_count": 44,
      "outputs": [
        {
          "output_type": "stream",
          "name": "stdout",
          "text": [
            "Enter a number: 50\n",
            "The number is Positive.\n"
          ]
        }
      ]
    },
    {
      "cell_type": "code",
      "source": [
        "# Get input from the user and convert to float\n",
        "num = float(input(\"Enter a number: \"))\n",
        "\n",
        "# Check conditions\n",
        "if num > 0:\n",
        "    print(\"The number is Positive.\")\n",
        "elif num < 0:\n",
        "    print(\"The number is Negative.\")\n",
        "else:\n",
        "    print(\"The number is Zero.\")"
      ],
      "metadata": {
        "colab": {
          "base_uri": "https://localhost:8080/"
        },
        "id": "Zq7czXlbqDMh",
        "outputId": "7a228d63-a8cd-4fc3-d405-94218958cf41"
      },
      "execution_count": 45,
      "outputs": [
        {
          "output_type": "stream",
          "name": "stdout",
          "text": [
            "Enter a number: -9\n",
            "The number is Negative.\n"
          ]
        }
      ]
    },
    {
      "cell_type": "code",
      "source": [
        "# Get input from the user and convert to float\n",
        "num = float(input(\"Enter a number: \"))\n",
        "\n",
        "# Check conditions\n",
        "if num > 0:\n",
        "    print(\"The number is Positive.\")\n",
        "elif num < 0:\n",
        "    print(\"The number is Negative.\")\n",
        "else:\n",
        "    print(\"The number is Zero.\")"
      ],
      "metadata": {
        "colab": {
          "base_uri": "https://localhost:8080/"
        },
        "id": "OS9owIBnqCzQ",
        "outputId": "20de2391-793a-4e83-f4b1-417269e1d54f"
      },
      "execution_count": 46,
      "outputs": [
        {
          "output_type": "stream",
          "name": "stdout",
          "text": [
            "Enter a number: 0\n",
            "The number is Zero.\n"
          ]
        }
      ]
    },
    {
      "cell_type": "code",
      "source": [
        "#12) Write a for loop to print numbers from 1 to 10.\n",
        "     for i in range(1, 11):\n",
        "    print(i)"
      ],
      "metadata": {
        "colab": {
          "base_uri": "https://localhost:8080/"
        },
        "id": "8oYnvY5yqCcn",
        "outputId": "ede574a8-6d5d-4dc7-d7ba-c9ec125d4ed6"
      },
      "execution_count": 51,
      "outputs": [
        {
          "output_type": "stream",
          "name": "stdout",
          "text": [
            "1\n",
            "2\n",
            "3\n",
            "4\n",
            "5\n",
            "6\n",
            "7\n",
            "8\n",
            "9\n",
            "10\n"
          ]
        }
      ]
    },
    {
      "cell_type": "markdown",
      "source": [],
      "metadata": {
        "id": "TkpfsnIASfsv"
      }
    },
    {
      "cell_type": "code",
      "source": [
        "#13) Write a Python program to find the sum of all even numbers between 1 and 50.\n",
        "   # Initialize sum\n",
        "even_sum = 0\n",
        "\n",
        "# Loop through numbers from 1 to 50\n",
        "for i in range(1, 51):\n",
        "    if i % 2 == 0:\n",
        "        even_sum += i\n",
        "\n",
        "# Print the result\n",
        "print(\"Sum of even numbers from 1 to 50 is:\", even_sum)"
      ],
      "metadata": {
        "colab": {
          "base_uri": "https://localhost:8080/"
        },
        "id": "eVazyTgyvRIc",
        "outputId": "1c006f83-4b2d-411c-b40d-0fdc313102c3"
      },
      "execution_count": 52,
      "outputs": [
        {
          "output_type": "stream",
          "name": "stdout",
          "text": [
            "Sum of even numbers from 1 to 50 is: 650\n"
          ]
        }
      ]
    },
    {
      "cell_type": "code",
      "source": [
        "#14) Write a program to reverse a string using a while loop.\n",
        "     # Get input from the user\n",
        "text = input(\"Enter a string: \")\n",
        "\n",
        "# Initialize variables\n",
        "reversed_text = \"\"\n",
        "index = len(text) - 1\n",
        "\n",
        "# Use while loop to reverse the string\n",
        "while index >= 0:\n",
        "    reversed_text += text[index]\n",
        "    index -= 1\n",
        "\n",
        "# Print the reversed string\n",
        "print(\"Reversed string:\", reversed_text)"
      ],
      "metadata": {
        "colab": {
          "base_uri": "https://localhost:8080/"
        },
        "id": "67rHAuwrv72H",
        "outputId": "3eb46a26-e190-4fb3-ec2f-8b5993938e10"
      },
      "execution_count": 54,
      "outputs": [
        {
          "output_type": "stream",
          "name": "stdout",
          "text": [
            "Enter a string: bat\n",
            "Reversed string: tab\n"
          ]
        }
      ]
    },
    {
      "cell_type": "code",
      "source": [],
      "metadata": {
        "id": "I1Tvva52vbeZ"
      },
      "execution_count": null,
      "outputs": []
    },
    {
      "cell_type": "code",
      "source": [
        "#15) Write a Python program to calculate the factorial of a number provided by the user using a while loop\n",
        "Get input from the user\n",
        "num = int(input(\"Enter a number to find its factorial: \"))\n",
        "\n",
        "# Initialize factorial result\n",
        "factorial = 1\n",
        "\n",
        "# Check for valid input\n",
        "if num < 0:\n",
        "    print(\"Factorial is not defined for negative numbers.\")\n",
        "else:\n",
        "    i = 1\n",
        "    while i <= num:\n",
        "        factorial *= i\n",
        "        i += 1\n",
        "    print(f\"The factorial of {num} is {factorial}\")"
      ],
      "metadata": {
        "colab": {
          "base_uri": "https://localhost:8080/"
        },
        "id": "sWVcFx_dqGOB",
        "outputId": "1e777b18-43e4-4b51-a064-bc1fde64f6a1"
      },
      "execution_count": 27,
      "outputs": [
        {
          "output_type": "stream",
          "name": "stdout",
          "text": [
            "Enter a number to find its factorial: 5\n",
            "The factorial of 5 is 120\n"
          ]
        }
      ]
    }
  ]
}